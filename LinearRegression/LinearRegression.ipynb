{
 "cells": [
  {
   "cell_type": "markdown",
   "metadata": {},
   "source": [
    "## Linear Regression for Multi-variable data set"
   ]
  },
  {
   "cell_type": "markdown",
   "metadata": {},
   "source": [
    "This program is the assignment of linear regression part in Machine Learning Course by Stanford at Coursera. I rewrote it in Python instead of  Matlab. "
   ]
  },
  {
   "cell_type": "code",
   "execution_count": 1,
   "metadata": {
    "collapsed": true
   },
   "outputs": [],
   "source": [
    "import numpy as np\n",
    "import pylab as pl\n",
    "%matplotlib inline\n",
    "pl.style.use('ggplot')"
   ]
  },
  {
   "cell_type": "markdown",
   "metadata": {},
   "source": [
    "As instructions in the assignment text, we need to define cost function and gradient descending funtion for the multi-variable linear regression. Note, this model also applies to one-variable linear regression."
   ]
  },
  {
   "cell_type": "code",
   "execution_count": 2,
   "metadata": {
    "collapsed": true
   },
   "outputs": [],
   "source": [
    "#Define cost function, H stands for H(x)\n",
    "#Y stands for Y\n",
    "def costFunc(X, y, theta):\n",
    "    '''Calculate the squared errors'''\n",
    "    if X is None or y is None:\n",
    "        print 'Empty Input For Cost!'\n",
    "        return None\n",
    "    if len(X.shape) == 1 and len(theta) !=1 :\n",
    "        print 'The dimensions do not match!'\n",
    "        return None\n",
    "    if len(X) != len(y) or X.shape[1] != len(theta):\n",
    "        print 'The dimensions do not match!'\n",
    "        return None\n",
    "    m = len(y)#Length of y\n",
    "    H = np.dot(X, theta)\n",
    "    squared_diff = (H - y)**2\n",
    "    return sum(squared_diff)/2/m    "
   ]
  },
  {
   "cell_type": "code",
   "execution_count": 3,
   "metadata": {
    "collapsed": true
   },
   "outputs": [],
   "source": [
    "#Update theta values\n",
    "def gradientDescentMulti(X, y, theta, alpha=0.01, num_iters=300):\n",
    "    '''Update theta values'''\n",
    "    if X is None or y is None or theta is None:\n",
    "        return None\n",
    "    if len(X.shape) == 1 and len(theta) !=1 :\n",
    "        print 'The dimensions do not match!'\n",
    "        return None\n",
    "    if len(X) != len(y) or X.shape[1] != len(theta):\n",
    "        print 'The dimensions do not match!'\n",
    "        return None\n",
    "    m = len(y)#the length of the samples\n",
    "    n = len(theta)#the number of features\n",
    "    temp_theta = theta\n",
    "    cost_iter = np.zeros(num_iters)#Record the cost each time\n",
    "    for i in range(num_iters):\n",
    "        for j in range(n):\n",
    "            diff = np.dot(X, theta) - y\n",
    "            temp_theta[j] = theta[j] - alpha *  np.dot(diff, X[:, j])/m\n",
    "        theta = temp_theta\n",
    "        cost_iter[i] = costFunc(X, y, theta)\n",
    "    return theta, cost_iter\n"
   ]
  },
  {
   "cell_type": "markdown",
   "metadata": {},
   "source": [
    "Now, we can create data sets to test the performance of gradient decreasing methods. Instead of using data set in the course, we create our own data set."
   ]
  },
  {
   "cell_type": "code",
   "execution_count": 4,
   "metadata": {
    "collapsed": true
   },
   "outputs": [],
   "source": [
    "X = np.random.randn(50)\n",
    "y = 3 * X + 1 + np.random.randn(50)/5"
   ]
  },
  {
   "cell_type": "markdown",
   "metadata": {},
   "source": [
    "Have a look at the points."
   ]
  },
  {
   "cell_type": "code",
   "execution_count": 6,
   "metadata": {
    "collapsed": false
   },
   "outputs": [
    {
     "data": {
      "text/plain": [
       "<matplotlib.text.Text at 0x6a1ea70>"
      ]
     },
     "execution_count": 6,
     "metadata": {},
     "output_type": "execute_result"
    },
    {
     "data": {
      "image/png": "[encoded data removed]",
      "text/plain": [
       "<matplotlib.figure.Figure at 0x6971c50>"
      ]
     },
     "metadata": {},
     "output_type": "display_data"
    }
   ],
   "source": [
    "pl.plot(X, y, 'bo')\n",
    "pl.xlabel('X')\n",
    "pl.ylabel('y')"
   ]
  },
  {
   "cell_type": "markdown",
   "metadata": {},
   "source": [
    "You can see there is some noise. We can try gradient descending method."
   ]
  },
  {
   "cell_type": "code",
   "execution_count": 7,
   "metadata": {
    "collapsed": false
   },
   "outputs": [],
   "source": [
    "X_new = np.ones([50, 2])\n",
    "X_new[:, 0] = X\n",
    "#Initialize theta, note there is a theta0\n",
    "theta = np.ones(2)"
   ]
  },
  {
   "cell_type": "code",
   "execution_count": 8,
   "metadata": {
    "collapsed": false
   },
   "outputs": [],
   "source": [
    "theta, costs = gradientDescentMulti(X_new, y, theta)"
   ]
  },
  {
   "cell_type": "code",
   "execution_count": 9,
   "metadata": {
    "collapsed": false
   },
   "outputs": [
    {
     "data": {
      "text/plain": [
       "array([ 2.87732052,  1.00292133])"
      ]
     },
     "execution_count": 9,
     "metadata": {},
     "output_type": "execute_result"
    }
   ],
   "source": [
    "theta"
   ]
  },
  {
   "cell_type": "code",
   "execution_count": 11,
   "metadata": {
    "collapsed": false
   },
   "outputs": [
    {
     "data": {
      "text/plain": [
       "<matplotlib.text.Text at 0x6a6afb0>"
      ]
     },
     "execution_count": 11,
     "metadata": {},
     "output_type": "execute_result"
    },
    {
     "data": {
      "image/png": "[encoded data removed]",
      "text/plain": [
       "<matplotlib.figure.Figure at 0x6a61a10>"
      ]
     },
     "metadata": {},
     "output_type": "display_data"
    }
   ],
   "source": [
    "pl.plot(X, y, 'bo')\n",
    "pl.plot(X, np.dot(X_new, theta))\n",
    "pl.xlabel('X')\n",
    "pl.ylabel('y')"
   ]
  },
  {
   "cell_type": "markdown",
   "metadata": {},
   "source": [
    "The results work well. Now we use data set with more variabls."
   ]
  },
  {
   "cell_type": "code",
   "execution_count": 12,
   "metadata": {
    "collapsed": false
   },
   "outputs": [],
   "source": [
    "#Create data set\n",
    "X = np.random.randn(100,5)\n",
    "y = 2 * X[:, 0] + 3 * X[:, 1] + 4 * X[:, 2] + 5 * X[:, 3] + 7 * X[:, 4] + 1 + np.random.randn(100)/20\n",
    "#Add ones\n",
    "X = np.insert(X, 5, 1, axis=1)\n",
    "#Initialize theta, note there is a theta0\n",
    "theta = np.ones(6)"
   ]
  },
  {
   "cell_type": "code",
   "execution_count": 13,
   "metadata": {
    "collapsed": false
   },
   "outputs": [
    {
     "data": {
      "text/plain": [
       "29.392560432018858"
      ]
     },
     "execution_count": 13,
     "metadata": {},
     "output_type": "execute_result"
    }
   ],
   "source": [
    "costFunc(X,y,theta)"
   ]
  },
  {
   "cell_type": "code",
   "execution_count": 14,
   "metadata": {
    "collapsed": false
   },
   "outputs": [],
   "source": [
    "theta, costs = gradientDescentMulti(X, y, theta)"
   ]
  },
  {
   "cell_type": "code",
   "execution_count": 15,
   "metadata": {
    "collapsed": false
   },
   "outputs": [
    {
     "data": {
      "text/plain": [
       "array([ 2.0257269 ,  2.86201195,  3.6406517 ,  4.62457433,  6.64117576,\n",
       "        0.84607792])"
      ]
     },
     "execution_count": 15,
     "metadata": {},
     "output_type": "execute_result"
    }
   ],
   "source": [
    "theta"
   ]
  },
  {
   "cell_type": "code",
   "execution_count": 16,
   "metadata": {
    "collapsed": false
   },
   "outputs": [
    {
     "data": {
      "text/plain": [
       "<matplotlib.text.Text at 0x77fcfd0>"
      ]
     },
     "execution_count": 16,
     "metadata": {},
     "output_type": "execute_result"
    },
    {
     "data": {
      "image/png": "[encoded data removed]",
      "text/plain": [
       "<matplotlib.figure.Figure at 0x780e710>"
      ]
     },
     "metadata": {},
     "output_type": "display_data"
    }
   ],
   "source": [
    "pl.plot(costs)\n",
    "pl.xlabel('Iteration Times')\n",
    "pl.ylabel('Cost')"
   ]
  },
  {
   "cell_type": "markdown",
   "metadata": {
    "collapsed": true
   },
   "source": [
    "It seems the cost function decreases along with iteration times. In this case, it has not converged."
   ]
  },
  {
   "cell_type": "code",
   "execution_count": null,
   "metadata": {
    "collapsed": true
   },
   "outputs": [],
   "source": []
  }
 ],
 "metadata": {
  "kernelspec": {
   "display_name": "Python 2",
   "language": "python",
   "name": "python2"
  },
  "language_info": {
   "codemirror_mode": {
    "name": "ipython",
    "version": 2
   },
   "file_extension": ".py",
   "mimetype": "text/x-python",
   "name": "python",
   "nbconvert_exporter": "python",
   "pygments_lexer": "ipython2",
   "version": "2.7.9"
  }
 },
 "nbformat": 4,
 "nbformat_minor": 0
}
