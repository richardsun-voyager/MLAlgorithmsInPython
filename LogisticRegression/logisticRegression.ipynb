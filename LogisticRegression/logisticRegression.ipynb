{
 "cells": [
  {
   "cell_type": "markdown",
   "metadata": {},
   "source": [
    "# Logistic Regression"
   ]
  },
  {
   "cell_type": "markdown",
   "metadata": {},
   "source": [
    "This programming work is also related to Machine Learning by Stanford University at Coursera. In order to understand logistic regression deeper, I decided to realize it in Python."
   ]
  },
  {
   "cell_type": "code",
   "execution_count": 1,
   "metadata": {
    "collapsed": false
   },
   "outputs": [],
   "source": [
    "import numpy as np\n",
    "import pylab as pl\n",
    "%matplotlib inline"
   ]
  },
  {
   "cell_type": "markdown",
   "metadata": {},
   "source": [
    "## Basic Logistic Regression"
   ]
  },
  {
   "cell_type": "markdown",
   "metadata": {},
   "source": [
    "First, we need to define *sigmoid*, *cost* function. Note, *numpy* package can deal with *array*, and return *array*."
   ]
  },
  {
   "cell_type": "code",
   "execution_count": 2,
   "metadata": {
    "collapsed": true
   },
   "outputs": [],
   "source": [
    "#Define sigmoid function\n",
    "def sigmoid(Z):\n",
    "    return 1/(1 + np.exp(-Z))"
   ]
  },
  {
   "cell_type": "code",
   "execution_count": 3,
   "metadata": {
    "collapsed": true
   },
   "outputs": [],
   "source": [
    "#Define cost function, X stands for input matrix\n",
    "#y stands for the labels\n",
    "def costFunc(X, y, theta):\n",
    "    '''Calculate the errors of logistic regression'''\n",
    "    if X is None or y is None:\n",
    "        print 'Empty Input For Cost!'\n",
    "        return None\n",
    "    if len(X.shape) == 1 and len(theta) !=1 :\n",
    "        print 'The dimensions do not match!'\n",
    "        return None\n",
    "    if len(X) != len(y) or X.shape[1] != len(theta):\n",
    "        print 'The dimensions do not match!'\n",
    "        return None\n",
    "    m = len(y)#Length of y\n",
    "    H = np.dot(X, theta)\n",
    "    #print H\n",
    "    Z = sigmoid(H)\n",
    "    \n",
    "    #Split the data into two parts, y=1, y=0\n",
    "    y_1 = y[y==1]\n",
    "    y_0 = y[y==0]    \n",
    "    Z_1 = Z[y==1]\n",
    "    Z_0 = Z[y==0]\n",
    "    total = -np.dot(y_1, np.log(Z_1)) - np.dot(1-y_0, np.log(1-Z_0))\n",
    "    if m>0:\n",
    "        total = total/m\n",
    "    else:\n",
    "        print 'Zero data!'\n",
    "        return None\n",
    "    return total     "
   ]
  },
  {
   "cell_type": "markdown",
   "metadata": {},
   "source": [
    "Note, if some of values in *H* are very large, Python may regard the sigmoid output as zeros or ones, which can not be handled by logistic function. We needd normalize the data initially."
   ]
  },
  {
   "cell_type": "markdown",
   "metadata": {},
   "source": [
    "Then, we create a function to do gradient descending algorithms. The key part is to update parameters during each iteration."
   ]
  },
  {
   "cell_type": "code",
   "execution_count": 4,
   "metadata": {
    "collapsed": true
   },
   "outputs": [],
   "source": [
    "#Add oncstants to the original input\n",
    "#Create theta with theta0\n",
    "def addOnes(X):\n",
    "    if X is None:\n",
    "        print 'Input Null!'\n",
    "        return None, None\n",
    "    dim = X.shape\n",
    "    #If X has multi variables\n",
    "    if dim>1:\n",
    "        feature_num = X.shape[1]\n",
    "        X = np.insert(X, feature_num, 1, axis=1)\n",
    "        theta = np.zeros(feature_num+1)\n",
    "        return X, theta\n",
    "    #If X only has one variable\n",
    "    else:\n",
    "        temp_X = np.ones([len(X), 2])\n",
    "        temp_X[:, 0] = X\n",
    "        theta = np.zeros(2)\n",
    "        return temp_X, theta"
   ]
  },
  {
   "cell_type": "code",
   "execution_count": 5,
   "metadata": {
    "collapsed": true
   },
   "outputs": [],
   "source": [
    "#Update theta values\n",
    "def trainLogisticRegression(X, y, alpha=0.01, num_iters=300):\n",
    "    '''Update theta values'''\n",
    "    #Deal with extreme cases\n",
    "    if X is None or y is None:\n",
    "        return None\n",
    "    if len(X) != len(y):\n",
    "        print 'The dimensions do not match!'\n",
    "        return None \n",
    "    \n",
    "    #Define some variables\n",
    "    [X, theta] = addOnes(X)#Add ones to X\n",
    "    #dim = X.shape\n",
    "    sample_num = len(y)#the length of the samples\n",
    "    feature_num = len(theta)#the number of features\n",
    "    #temp_theta = theta\n",
    "    cost_iter = np.zeros(num_iters)#Record the cost each time\n",
    "    \n",
    "    #Iteration\n",
    "    for i in range(num_iters):\n",
    "        #Update theta during each iteration\n",
    "        diff = sigmoid(np.dot(X, theta)) - y\n",
    "        theta = theta - alpha *  np.dot(diff, X)/sample_num\n",
    "        #for j in range(feature_num):\n",
    "            #diff = sigmoid(np.dot(X, theta)) - y\n",
    "            #print theta\n",
    "            #temp_theta[j] = theta[j] - alpha *  np.dot(diff, X[:, j])/sample_num\n",
    "            #theta[j] = theta[j] - alpha *  np.dot(diff, X[:, j])/sample_num\n",
    "        #theta = temp_theta\n",
    "        #print theta\n",
    "        cost_iter[i] = costFunc(X, y, theta)\n",
    "    return theta, cost_iter"
   ]
  },
  {
   "cell_type": "markdown",
   "metadata": {},
   "source": [
    "In order to check the performance of the algorithms, *predict* and *accuracy* functions are also needed. "
   ]
  },
  {
   "cell_type": "code",
   "execution_count": 6,
   "metadata": {
    "collapsed": false
   },
   "outputs": [],
   "source": [
    "#Create a function to do predictions\n",
    "def modelPredict(test, theta, threshold=0.5):\n",
    "    '''Make predictions'''\n",
    "    if len(test.shape) < 2:\n",
    "        print 'The input has too few dimensions'\n",
    "        return None\n",
    "    feature_num = test.shape[1]\n",
    "    sample_num = len(test)\n",
    "    test = np.insert(test, feature_num, 1, axis=1)\n",
    "    H = np.dot(test, theta)\n",
    "    Z = sigmoid(H) \n",
    "    #print Z\n",
    "    predictions = np.ones(sample_num)\n",
    "    predictions[Z<threshold] = 0\n",
    "    return predictions"
   ]
  },
  {
   "cell_type": "code",
   "execution_count": 7,
   "metadata": {
    "collapsed": true
   },
   "outputs": [],
   "source": [
    "#Calculate the accuracy\n",
    "def accuracy(y, y_test):\n",
    "    '''Calculate Accuracy'''\n",
    "    return np.mean(y==y_test)"
   ]
  },
  {
   "cell_type": "markdown",
   "metadata": {},
   "source": [
    "Load input files from the text, actually the data set was from materials of Machine Learning by Stanford University at Coursera."
   ]
  },
  {
   "cell_type": "code",
   "execution_count": 8,
   "metadata": {
    "collapsed": false
   },
   "outputs": [],
   "source": [
    "file = open('ex2data1.txt')\n",
    "data = []\n",
    "for line in file:\n",
    "    numbers = line.strip('\\n').split(',')\n",
    "    data.append(numbers)\n",
    "data = np.float32(data)"
   ]
  },
  {
   "cell_type": "code",
   "execution_count": 9,
   "metadata": {
    "collapsed": false
   },
   "outputs": [
    {
     "data": {
      "text/plain": [
       "(100L, 3L)"
      ]
     },
     "execution_count": 9,
     "metadata": {},
     "output_type": "execute_result"
    }
   ],
   "source": [
    "data.shape"
   ]
  },
  {
   "cell_type": "markdown",
   "metadata": {},
   "source": [
    "We need to split data set into variables and outcome."
   ]
  },
  {
   "cell_type": "code",
   "execution_count": 11,
   "metadata": {
    "collapsed": false
   },
   "outputs": [],
   "source": [
    "X_all = data[:, :2]\n",
    "y_all = data[:, 2]"
   ]
  },
  {
   "cell_type": "markdown",
   "metadata": {},
   "source": [
    "Have a look at the points in a 2D plot. Classes are distingushed by colors and shapes."
   ]
  },
  {
   "cell_type": "code",
   "execution_count": 13,
   "metadata": {
    "collapsed": false
   },
   "outputs": [
    {
     "data": {
      "text/plain": [
       "<matplotlib.legend.Legend at 0x81fdbe0>"
      ]
     },
     "execution_count": 13,
     "metadata": {},
     "output_type": "execute_result"
    },
    {
     "data": {
      "image/png": "[encoded data removed]",
      "text/plain": [
       "<matplotlib.figure.Figure at 0x80dc208>"
      ]
     },
     "metadata": {},
     "output_type": "display_data"
    }
   ],
   "source": [
    "pl.style.use('ggplot')\n",
    "#sns.set(style=\"ticks\", color_codes=True)\n",
    "pos = X_all[y_all==1] #Data set belongs to Admitted\n",
    "neg = X_all[y_all==0] #Data set belongs to Not Admitted\n",
    "point1 = pl.plot(pos[:, 0], pos[:, 1], 'bs', label='Admitted')\n",
    "point2 = pl.plot(neg[:, 0], neg[:, 1], 'ro', label='Failed')\n",
    "pl.plot([30, 90], [90, 30])\n",
    "pl.title('Distribution of two classes')\n",
    "pl.legend()"
   ]
  },
  {
   "cell_type": "markdown",
   "metadata": {},
   "source": [
    "Next, we will split them into training and testing part randomly."
   ]
  },
  {
   "cell_type": "code",
   "execution_count": 14,
   "metadata": {
    "collapsed": true
   },
   "outputs": [],
   "source": [
    "np.random.seed(111)\n",
    "index_shuffle = np.random.permutation(100)\n",
    "X = X_all[index_shuffle[:81]]\n",
    "y = y_all[index_shuffle[:81]]\n",
    "X_test = X_all[index_shuffle[81:]]\n",
    "y_test = y_all[index_shuffle[81:]]"
   ]
  },
  {
   "cell_type": "markdown",
   "metadata": {},
   "source": [
    "Now, let's do training work. In order to show the influence of the learning rate *alpha*, we pick several learning rates and compare the training performances."
   ]
  },
  {
   "cell_type": "code",
   "execution_count": 15,
   "metadata": {
    "collapsed": false
   },
   "outputs": [
    {
     "data": {
      "text/plain": [
       "<matplotlib.text.Text at 0x81a8ef0>"
      ]
     },
     "execution_count": 15,
     "metadata": {},
     "output_type": "execute_result"
    },
    {
     "data": {
      "image/png": "[encoded data removed]",
      "text/plain": [
       "<matplotlib.figure.Figure at 0x81a8d68>"
      ]
     },
     "metadata": {},
     "output_type": "display_data"
    }
   ],
   "source": [
    "alphas = [0.0008, 0.001, 0.0015, 0.002]\n",
    "theta_list = []\n",
    "cost_list = []\n",
    "fig = pl.figure(figsize=(12,9))\n",
    "for k, alpha in enumerate(alphas):\n",
    "    [theta, costs] = trainLogisticRegression(X, y, alpha=alpha, num_iters=80000)\n",
    "    theta_list.append(theta)\n",
    "    cost_list.append(costs)\n",
    "    #Make subplots\n",
    "    ax = fig.add_subplot(2, 2, k+1)\n",
    "    ax.plot(costs)\n",
    "    #ax.set_title('Descending of Cost Function')\n",
    "    ax.set_title('alpha = %s'%(alpha))\n",
    "    ax.set_xlabel('Iteration Times')\n",
    "    ax.set_ylabel('Cost Function') \n",
    "    #ax.set_ylim([0.3, 1])\n",
    "#Set the margins of the plots\n",
    "fig.subplots_adjust(left=None, bottom=None, right=None, top=None,wspace=None, hspace=0.3)\n",
    "fig.suptitle('Cost VS Alpha', fontsize=18, y=1.03)"
   ]
  },
  {
   "cell_type": "markdown",
   "metadata": {},
   "source": [
    "Generally speaking, the cost decays as iteration number increases. It seems if *alpha*=0.0005, the cost converged very slow, whereas if *alpha*=0.002, it fluctuates a little bit sharply. And compare to 0.0008, if *alpha*=0.001, the cost will be lower after 80000 iterations. In our next parts, we only consider *alpha*=0.001."
   ]
  },
  {
   "cell_type": "markdown",
   "metadata": {},
   "source": [
    "Let's analyse the result."
   ]
  },
  {
   "cell_type": "code",
   "execution_count": 34,
   "metadata": {
    "collapsed": false
   },
   "outputs": [
    {
     "data": {
      "text/plain": [
       "array([ 0.69829069,  0.65971176,  0.66162727, ...,  0.46510887,\n",
       "        0.46510672,  0.46510457])"
      ]
     },
     "execution_count": 34,
     "metadata": {},
     "output_type": "execute_result"
    }
   ],
   "source": [
    "cost_list[2]"
   ]
  },
  {
   "cell_type": "code",
   "execution_count": 35,
   "metadata": {
    "collapsed": false
   },
   "outputs": [
    {
     "data": {
      "text/plain": [
       "array([ 0.03070169,  0.0227595 , -2.84946252])"
      ]
     },
     "execution_count": 35,
     "metadata": {},
     "output_type": "execute_result"
    }
   ],
   "source": [
    "theta_list[2]"
   ]
  },
  {
   "cell_type": "code",
   "execution_count": 16,
   "metadata": {
    "collapsed": false
   },
   "outputs": [
    {
     "data": {
      "text/plain": [
       "array([ 1.,  0.,  0.,  1.,  1.,  0.,  0.,  1.,  0.,  1.,  1.,  1.,  1.,\n",
       "        0.,  1.,  1.,  0.,  0.,  0.,  1.,  1.,  1.,  1.,  1.,  1.,  1.,\n",
       "        0.,  1.,  1.,  0.,  0.,  1.,  0.,  0.,  0.,  0.,  1.,  1.,  1.,\n",
       "        0.,  0.,  1.,  1.,  0.,  1.,  1.,  1.,  1.,  0.,  1.,  1.,  1.,\n",
       "        0.,  1.,  0.,  1.,  1.,  0.,  1.,  0.,  1.,  1.,  0.,  1.,  1.,\n",
       "        1.,  1.,  0.,  1.,  1.,  1.,  0.,  1.,  1.,  0.,  1.,  1.,  1.,\n",
       "        1.,  1.,  0.])"
      ]
     },
     "execution_count": 16,
     "metadata": {},
     "output_type": "execute_result"
    }
   ],
   "source": [
    "y_hat = modelPredict(X, theta_list[2], threshold=0.5)\n",
    "y_hat"
   ]
  },
  {
   "cell_type": "code",
   "execution_count": 17,
   "metadata": {
    "collapsed": false
   },
   "outputs": [
    {
     "data": {
      "text/plain": [
       "array([ 1.,  0.,  0.,  1.,  1.,  0.,  0.,  1.,  0.,  0.,  1.,  1.,  1.,\n",
       "        0.,  1.,  1.,  0.,  0.,  0.,  1.,  1.,  1.,  1.,  1.,  1.,  0.,\n",
       "        0.,  1.,  1.,  0.,  0.,  1.,  0.,  0.,  0.,  0.,  1.,  1.,  1.,\n",
       "        0.,  0.,  0.,  1.,  0.,  1.,  1.,  1.,  1.,  1.,  1.,  1.,  1.,\n",
       "        0.,  1.,  0.,  0.,  1.,  0.,  1.,  0.,  1.,  1.,  0.,  1.,  1.,\n",
       "        1.,  1.,  0.,  1.,  1.,  1.,  0.,  1.,  1.,  0.,  1.,  1.,  1.,\n",
       "        1.,  1.,  0.], dtype=float32)"
      ]
     },
     "execution_count": 17,
     "metadata": {},
     "output_type": "execute_result"
    }
   ],
   "source": [
    "y"
   ]
  },
  {
   "cell_type": "code",
   "execution_count": 18,
   "metadata": {
    "collapsed": false
   },
   "outputs": [
    {
     "data": {
      "text/plain": [
       "0.93827160493827155"
      ]
     },
     "execution_count": 18,
     "metadata": {},
     "output_type": "execute_result"
    }
   ],
   "source": [
    "accuracy(y, y_hat)"
   ]
  },
  {
   "cell_type": "markdown",
   "metadata": {},
   "source": [
    "The accuracy can be over 90% for the training data set. We need to check the performance on testing data set."
   ]
  },
  {
   "cell_type": "code",
   "execution_count": 19,
   "metadata": {
    "collapsed": false
   },
   "outputs": [
    {
     "data": {
      "text/plain": [
       "0.78947368421052633"
      ]
     },
     "execution_count": 19,
     "metadata": {},
     "output_type": "execute_result"
    }
   ],
   "source": [
    "y_hat = modelPredict(X_test, theta_list[1], threshold=0.5)\n",
    "accuracy(y_test, y_hat)"
   ]
  },
  {
   "cell_type": "markdown",
   "metadata": {},
   "source": [
    "The accuracy on testing data is not so good as on training data, overfitting happens here."
   ]
  },
  {
   "cell_type": "markdown",
   "metadata": {},
   "source": [
    "## Regularization"
   ]
  },
  {
   "cell_type": "markdown",
   "metadata": {},
   "source": [
    "Regularization is commonly used in machine learning in order to prevent against overfitting. We need to modify our *cost* and *trainLogisticRegression* functions."
   ]
  },
  {
   "cell_type": "code",
   "execution_count": 23,
   "metadata": {
    "collapsed": false
   },
   "outputs": [],
   "source": [
    "#Define cost function, X stands for input matrix\n",
    "#y stands for the labels\n",
    "#lambda1 stands for the regularization coefficient\n",
    "def costFuncWithReg(X, y, theta, lambda1=0.01):\n",
    "    '''Calculate the errors of logistic regression'''\n",
    "    ###############Deal with unusual inputs###########\n",
    "    if X is None or y is None:\n",
    "        print 'Empty Input For Cost!'\n",
    "        return None\n",
    "    if len(X.shape) == 1 and len(theta) !=1 :\n",
    "        print 'The dimensions do not match!'\n",
    "        return None\n",
    "    if len(X) != len(y) or X.shape[1] != len(theta):\n",
    "        print 'The dimensions do not match!'\n",
    "        return None\n",
    "    ##############Calculate Output####################\n",
    "    sample_num = len(y)#Length of y\n",
    "    feature_num = len(theta)\n",
    "    H = np.dot(X, theta)#Product of X and theta\n",
    "    #print H\n",
    "    Z = sigmoid(H)# Sigmoid Output\n",
    "    #print Z\n",
    "    ##############Calculate the Cost##################\n",
    "    #Split the data into two parts, y=1, y=0\n",
    "    y_1 = y[y==1]\n",
    "    y_0 = y[y==0]    \n",
    "    Z_1 = Z[y==1]\n",
    "    Z_0 = Z[y==0]\n",
    "    total = -np.dot(y_1, np.log(Z_1)) - np.dot(1-y_0, np.log(1-Z_0))\n",
    "    if sample_num>0:\n",
    "        total = total/sample_num\n",
    "    else:\n",
    "        print 'Invalid Input!'\n",
    "        return None\n",
    "    #############Add regularization###################\n",
    "    #Note, theta0 is not considered\n",
    "    total += lambda1 * sum(np.square(theta[:feature_num]))/2/sample_num\n",
    "    return total     "
   ]
  },
  {
   "cell_type": "code",
   "execution_count": 24,
   "metadata": {
    "collapsed": true
   },
   "outputs": [],
   "source": [
    "#Update theta values\n",
    "def trainLogisticRegressionWithReg(X, y, alpha=0.01, lambda1=0.01, num_iters=30):\n",
    "    '''Update theta values'''\n",
    "    #Deal with extreme cases\n",
    "    if X is None or y is None:\n",
    "        return None\n",
    "    if len(X) != len(y):\n",
    "        print 'The dimensions do not match!'\n",
    "        return None \n",
    "    \n",
    "    #Define some variables\n",
    "    [X, theta] = addOnes(X)#Add ones to X\n",
    "    #dim = X.shape\n",
    "    sample_num = len(y)#the length of the samples\n",
    "    feature_num = len(theta)#the number of features\n",
    "    temp_theta = theta\n",
    "    cost_iter = np.zeros(num_iters)#Record the cost each time\n",
    "    \n",
    "    #Iteration\n",
    "    for i in range(num_iters):\n",
    "        #Update theta during each iteration\n",
    "        diff = sigmoid(np.dot(X, theta)) - y\n",
    "        grad = np.dot(diff, X)/sample_num\n",
    "        grad[:feature_num] += lambda1 * theta[:feature_num]/sample_num\n",
    "        theta = theta - alpha * grad\n",
    "        cost_iter[i] = costFuncWithReg(X, y, theta, lambda1)\n",
    "    return theta, cost_iter"
   ]
  },
  {
   "cell_type": "code",
   "execution_count": 25,
   "metadata": {
    "collapsed": false
   },
   "outputs": [],
   "source": [
    "theta, costs = trainLogisticRegressionWithReg(X, y, alpha=0.0015, lambda1=0.001, num_iters=80000)"
   ]
  },
  {
   "cell_type": "code",
   "execution_count": 26,
   "metadata": {
    "collapsed": false
   },
   "outputs": [
    {
     "data": {
      "text/plain": [
       "array([ 0.85821258,  0.84956806,  1.21994819, ...,  0.32072692,\n",
       "        0.32072575,  0.32072458])"
      ]
     },
     "execution_count": 26,
     "metadata": {},
     "output_type": "execute_result"
    }
   ],
   "source": [
    "costs"
   ]
  },
  {
   "cell_type": "code",
   "execution_count": 31,
   "metadata": {
    "collapsed": false
   },
   "outputs": [
    {
     "data": {
      "text/plain": [
       "<matplotlib.text.Text at 0x9b84a20>"
      ]
     },
     "execution_count": 31,
     "metadata": {},
     "output_type": "execute_result"
    },
    {
     "data": {
      "image/png": "[encoded data removed]",
      "text/plain": [
       "<matplotlib.figure.Figure at 0xacb1080>"
      ]
     },
     "metadata": {},
     "output_type": "display_data"
    }
   ],
   "source": [
    "pl.plot(costs)\n",
    "pl.xlabel('Iteration Number')\n",
    "pl.ylabel('Cost')"
   ]
  },
  {
   "cell_type": "markdown",
   "metadata": {},
   "source": [
    "Let's check the performance on testing data set."
   ]
  },
  {
   "cell_type": "code",
   "execution_count": 29,
   "metadata": {
    "collapsed": false
   },
   "outputs": [],
   "source": [
    "y_hat = modelPredict(X_test, theta, threshold=0.5)"
   ]
  },
  {
   "cell_type": "code",
   "execution_count": 30,
   "metadata": {
    "collapsed": false
   },
   "outputs": [
    {
     "data": {
      "text/plain": [
       "0.84210526315789469"
      ]
     },
     "execution_count": 30,
     "metadata": {},
     "output_type": "execute_result"
    }
   ],
   "source": [
    "accuracy(y_test, y_hat)"
   ]
  },
  {
   "cell_type": "markdown",
   "metadata": {},
   "source": [
    "Obviously, the accuracy on testing data improved a little."
   ]
  },
  {
   "cell_type": "markdown",
   "metadata": {},
   "source": [
    "## Stochastic Gradient Descending Method\n",
    "\n",
    "For certain large data set, it is very expensive to loop over all the data set during the parameters update in terms of time and computation. For example, if there are 1 million samples, in traditional gradient descending method, each step, you have to calculate the sum of the differences between the output and real values, which are 1 million differences. In order to solve this problem, a new approach Stochastic Gradient Descending Method was introduced. Here, I will realize it as well."
   ]
  },
  {
   "cell_type": "code",
   "execution_count": 32,
   "metadata": {
    "collapsed": true
   },
   "outputs": [],
   "source": [
    "#Update theta values\n",
    "def trainLogisticRegressionWithReg(X, y, alpha=0.01, lambda1=0.01, num_iters=300, option='SGD'):\n",
    "    '''Update theta values'''\n",
    "    #Deal with extreme cases\n",
    "    if X is None or y is None:\n",
    "        return None\n",
    "    if len(X) != len(y):\n",
    "        print 'The dimensions do not match!'\n",
    "        return None \n",
    "    \n",
    "    #Define some variables\n",
    "    [X, theta] = addOnes(X)#Add ones to X\n",
    "    #dim = X.shape\n",
    "    sample_num = len(y)#the length of the samples\n",
    "    feature_num = len(theta)#the number of features\n",
    "    temp_theta = theta\n",
    "    cost_iter = np.zeros(num_iters)#Record the cost each time\n",
    "    \n",
    "    #Iteration\n",
    "    np.random.seed(111)\n",
    "    for i in range(num_iters):\n",
    "        #Update theta during each iteration\n",
    "        if option == 'GD':\n",
    "            diff = sigmoid(np.dot(X, theta)) - y\n",
    "            grad = np.dot(diff, X)/sample_num\n",
    "            grad[:feature_num] += lambda1 * theta[:feature_num]/sample_num\n",
    "            theta = theta - alpha * grad\n",
    "        if option == 'SGD':\n",
    "            #Select part of the training data to do updating\n",
    "            #In this case, we choose 20 samples at random from training data set\n",
    "            index = np.random.choice(sample_num, 20)\n",
    "            X_part = X[index,:]\n",
    "            y_part = y[index]\n",
    "            diff = sigmoid(np.dot(X_part, theta)) - y_part\n",
    "            grad = np.dot(diff, X_part)/len(index)\n",
    "            grad[:feature_num] += lambda1 * theta[:feature_num]/len(index)\n",
    "            theta = theta - alpha * grad\n",
    "        #print theta\n",
    "        cost_iter[i] = costFuncWithReg(X, y, theta, lambda1)\n",
    "    return theta, cost_iter"
   ]
  },
  {
   "cell_type": "code",
   "execution_count": 33,
   "metadata": {
    "collapsed": true
   },
   "outputs": [],
   "source": [
    "theta, costs = trainLogisticRegressionWithReg(X, y, alpha=0.0015, lambda1=0.001, num_iters=80000)"
   ]
  },
  {
   "cell_type": "code",
   "execution_count": 34,
   "metadata": {
    "collapsed": false
   },
   "outputs": [
    {
     "data": {
      "text/plain": [
       "[<matplotlib.lines.Line2D at 0xc6a3ba8>]"
      ]
     },
     "execution_count": 34,
     "metadata": {},
     "output_type": "execute_result"
    },
    {
     "data": {
      "image/png": "[encoded data removed]",
      "text/plain": [
       "<matplotlib.figure.Figure at 0xae27f98>"
      ]
     },
     "metadata": {},
     "output_type": "display_data"
    }
   ],
   "source": [
    "pl.plot(costs)"
   ]
  },
  {
   "cell_type": "markdown",
   "metadata": {},
   "source": [
    "It seems in stochastic gradient descending method, the cost function goes down in a quite fluctuating way, which is coherent to our tuition. It needs more time to converge."
   ]
  },
  {
   "cell_type": "code",
   "execution_count": 35,
   "metadata": {
    "collapsed": false
   },
   "outputs": [
    {
     "data": {
      "text/plain": [
       "0.63157894736842102"
      ]
     },
     "execution_count": 35,
     "metadata": {},
     "output_type": "execute_result"
    }
   ],
   "source": [
    "y_hat = modelPredict(X_test, theta, threshold=0.5)\n",
    "accuracy(y_test, y_hat)"
   ]
  },
  {
   "cell_type": "code",
   "execution_count": 36,
   "metadata": {
    "collapsed": true
   },
   "outputs": [],
   "source": [
    "theta, costs = trainLogisticRegressionWithReg(X, y, alpha=0.0015, lambda1=0.001, num_iters=120000)"
   ]
  },
  {
   "cell_type": "code",
   "execution_count": 37,
   "metadata": {
    "collapsed": false
   },
   "outputs": [
    {
     "data": {
      "text/plain": [
       "0.78947368421052633"
      ]
     },
     "execution_count": 37,
     "metadata": {},
     "output_type": "execute_result"
    }
   ],
   "source": [
    "y_hat = modelPredict(X_test, theta, threshold=0.5)\n",
    "accuracy(y_test, y_hat)"
   ]
  },
  {
   "cell_type": "code",
   "execution_count": 38,
   "metadata": {
    "collapsed": false
   },
   "outputs": [
    {
     "data": {
      "text/plain": [
       "[<matplotlib.lines.Line2D at 0xe0729b0>]"
      ]
     },
     "execution_count": 38,
     "metadata": {},
     "output_type": "execute_result"
    },
    {
     "data": {
      "image/png": "[encoded data removed]",
      "text/plain": [
       "<matplotlib.figure.Figure at 0xafe8a90>"
      ]
     },
     "metadata": {},
     "output_type": "display_data"
    }
   ],
   "source": [
    "pl.plot(costs)"
   ]
  },
  {
   "cell_type": "markdown",
   "metadata": {},
   "source": [
    "The accuracy improved a little after more iterations."
   ]
  },
  {
   "cell_type": "markdown",
   "metadata": {},
   "source": [
    "## Improve Efficiency"
   ]
  },
  {
   "cell_type": "markdown",
   "metadata": {},
   "source": [
    "During the process of improving performance of the algorithm, I found if I updated *theta* each time for each variable, the performance would improve for the training data set."
   ]
  },
  {
   "cell_type": "code",
   "execution_count": 39,
   "metadata": {
    "collapsed": true
   },
   "outputs": [],
   "source": [
    "#Update theta values\n",
    "def trainLogisticRegressionWithReg(X, y, alpha=0.01, lambda1=0.01, num_iters=30):\n",
    "    '''Update theta values'''\n",
    "    #Deal with extreme cases\n",
    "    if X is None or y is None:\n",
    "        return None\n",
    "    if len(X) != len(y):\n",
    "        print 'The dimensions do not match!'\n",
    "        return None \n",
    "    \n",
    "    #Define some variables\n",
    "    [X, theta] = addOnes(X)#Add ones to X\n",
    "    #dim = X.shape\n",
    "    sample_num = len(y)#the length of the samples\n",
    "    feature_num = len(theta)#the number of features\n",
    "    temp_theta = theta\n",
    "    cost_iter = np.zeros(num_iters)#Record the cost each time\n",
    "    \n",
    "    #Iteration\n",
    "    for i in range(num_iters):\n",
    "        #Update theta during each iteration\n",
    "        for j in range(feature_num):\n",
    "            #Update theta each time\n",
    "            #Update diff\n",
    "            diff = sigmoid(np.dot(X, theta)) - y\n",
    "            grad = np.dot(diff, X[:, j])/sample_num \n",
    "            #Skip theta0\n",
    "            if j<feature_num - 1:\n",
    "                grad += lambda1 * theta[j]/sample_num\n",
    "            temp_theta[j] = theta[j] - alpha *  grad\n",
    "        theta = temp_theta\n",
    "        #print theta\n",
    "        cost_iter[i] = costFuncWithReg(X, y, theta, lambda1)\n",
    "    return theta, cost_iter"
   ]
  },
  {
   "cell_type": "code",
   "execution_count": 40,
   "metadata": {
    "collapsed": true
   },
   "outputs": [],
   "source": [
    "theta, costs = trainLogisticRegressionWithReg(X, y, alpha=0.002, lambda1=0.002, num_iters=50000)"
   ]
  },
  {
   "cell_type": "code",
   "execution_count": 44,
   "metadata": {
    "collapsed": false
   },
   "outputs": [
    {
     "data": {
      "text/plain": [
       "[<matplotlib.lines.Line2D at 0x120a2d30>]"
      ]
     },
     "execution_count": 44,
     "metadata": {},
     "output_type": "execute_result"
    },
    {
     "data": {
      "image/png": "[encoded data removed]",
      "text/plain": [
       "<matplotlib.figure.Figure at 0xb6ce240>"
      ]
     },
     "metadata": {},
     "output_type": "display_data"
    }
   ],
   "source": [
    "pl.plot(costs)"
   ]
  },
  {
   "cell_type": "code",
   "execution_count": 41,
   "metadata": {
    "collapsed": false
   },
   "outputs": [
    {
     "data": {
      "text/plain": [
       "0.92592592592592593"
      ]
     },
     "execution_count": 41,
     "metadata": {},
     "output_type": "execute_result"
    }
   ],
   "source": [
    "y_hat = modelPredict(X, theta, threshold=0.5)\n",
    "accuracy(y, y_hat)"
   ]
  },
  {
   "cell_type": "code",
   "execution_count": 42,
   "metadata": {
    "collapsed": false
   },
   "outputs": [
    {
     "data": {
      "text/plain": [
       "0.78947368421052633"
      ]
     },
     "execution_count": 42,
     "metadata": {},
     "output_type": "execute_result"
    }
   ],
   "source": [
    "y_hat = modelPredict(X_test, theta, threshold=0.5)\n",
    "accuracy(y_test, y_hat)"
   ]
  },
  {
   "cell_type": "markdown",
   "metadata": {},
   "source": [
    "So using this method, it takes less iterations to reach such accuracy. And the cost decreases in a smooth way."
   ]
  }
 ],
 "metadata": {
  "kernelspec": {
   "display_name": "Python [Root]",
   "language": "python",
   "name": "Python [Root]"
  },
  "language_info": {
   "codemirror_mode": {
    "name": "ipython",
    "version": 2
   },
   "file_extension": ".py",
   "mimetype": "text/x-python",
   "name": "python",
   "nbconvert_exporter": "python",
   "pygments_lexer": "ipython2",
   "version": "2.7.12"
  }
 },
 "nbformat": 4,
 "nbformat_minor": 0
}
