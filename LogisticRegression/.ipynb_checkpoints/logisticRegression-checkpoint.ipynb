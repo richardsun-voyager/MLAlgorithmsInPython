{
 "cells": [
  {
   "cell_type": "markdown",
   "metadata": {},
   "source": [
    "# Logistic Regression"
   ]
  },
  {
   "cell_type": "code",
   "execution_count": 49,
   "metadata": {
    "collapsed": true
   },
   "outputs": [],
   "source": [
    "import numpy as np\n",
    "import scipy.io as sio \n",
    "import pylab as pl\n",
    "%matplotlib inline"
   ]
  },
  {
   "cell_type": "code",
   "execution_count": 2,
   "metadata": {
    "collapsed": true
   },
   "outputs": [],
   "source": [
    "#Define sigmoid function\n",
    "def sigmoid(Z):\n",
    "    return 1/(1 + np.exp(-Z))"
   ]
  },
  {
   "cell_type": "code",
   "execution_count": 165,
   "metadata": {
    "collapsed": true
   },
   "outputs": [],
   "source": [
    "#Define cost function, X stands for input matrix\n",
    "#y stands for the labels\n",
    "def costFunc(X, y, theta):\n",
    "    '''Calculate the errors of logistic regression'''\n",
    "    if X is None or y is None:\n",
    "        print 'Empty Input For Cost!'\n",
    "        return None\n",
    "    if len(X.shape) == 1 and len(theta) !=1 :\n",
    "        print 'The dimensions do not match!'\n",
    "        return None\n",
    "    if len(X) != len(y) or X.shape[1] != len(theta):\n",
    "        print 'The dimensions do not match!'\n",
    "        return None\n",
    "    m = len(y)#Length of y\n",
    "    H = np.dot(X, theta)\n",
    "    #print H\n",
    "    Z = sigmoid(H)\n",
    "    #print Z\n",
    "    if 0 in Z or 1 in Z:\n",
    "        print 'Zero data for log function!'\n",
    "        return None\n",
    "    total = np.dot(y, np.log(Z)) + np.dot(1-y, np.log(1-Z))\n",
    "    if m>0:\n",
    "        total = total/m\n",
    "    else:\n",
    "        print 'Zero data!'\n",
    "        return None\n",
    "    return -total     "
   ]
  },
  {
   "cell_type": "code",
   "execution_count": 229,
   "metadata": {
    "collapsed": true
   },
   "outputs": [],
   "source": [
    "#Update theta values\n",
    "def trainLogisticRegression(X, y, alpha=0.01, num_iters=300):\n",
    "    '''Update theta values'''\n",
    "    #Deal with extreme cases\n",
    "    if X is None or y is None:\n",
    "        return None\n",
    "    if len(X) != len(y):\n",
    "        print 'The dimensions do not match!'\n",
    "        return None \n",
    "    dim = X.shape\n",
    "    sample_num = len(y)#the length of the samples\n",
    "    feature_num = 0\n",
    "    if dim>1:\n",
    "        feature_num = X.shape[1]\n",
    "    else:\n",
    "        feature_num = 1\n",
    "    input_train = np.insert(X, feature_num, 1, axis=1)#Insert the constant value\n",
    "    theta = np.zeros(feature_num+1)\n",
    "    feature_num = len(theta)#the number of features\n",
    "    temp_theta = theta\n",
    "    cost_iter = np.zeros(num_iters)#Record the cost each time\n",
    "    for i in range(num_iters):\n",
    "        #Update theta during each iteration\n",
    "        for j in range(feature_num):\n",
    "            diff = sigmoid(np.dot(input_train, theta)) - y\n",
    "            temp_theta[j] = theta[j] - alpha *  np.dot(diff, input_train[:, j])/m\n",
    "        theta = temp_theta\n",
    "        #print theta\n",
    "        cost_iter[i] = costFunc(input_train, y, theta)\n",
    "    return theta, cost_iter"
   ]
  },
  {
   "cell_type": "code",
   "execution_count": 217,
   "metadata": {
    "collapsed": false
   },
   "outputs": [],
   "source": [
    "#Create a function to do predictions\n",
    "def modelPredict(test, theta, threshold=0.5):\n",
    "    '''Make predictions'''\n",
    "    if len(test.shape) < 2:\n",
    "        print 'The input has too few dimensions'\n",
    "        return None\n",
    "    feature_num = test.shape[1]\n",
    "    sample_num = len(test)\n",
    "    test = np.insert(test, feature_num, 1, axis=1)\n",
    "    H = np.dot(test, theta)\n",
    "    Z = sigmoid(H) \n",
    "    #print Z\n",
    "    predictions = np.ones(sample_num)\n",
    "    predictions[Z<threshold] = 0\n",
    "    return predictions"
   ]
  },
  {
   "cell_type": "markdown",
   "metadata": {},
   "source": [
    "Load input files from the text."
   ]
  },
  {
   "cell_type": "code",
   "execution_count": 156,
   "metadata": {
    "collapsed": false
   },
   "outputs": [],
   "source": [
    "file = open('ex2data1.txt')\n",
    "data = []\n",
    "for line in file:\n",
    "    numbers = line.strip('\\n').split(',')\n",
    "    data.append(numbers)\n",
    "data = np.float32(data)"
   ]
  },
  {
   "cell_type": "code",
   "execution_count": 157,
   "metadata": {
    "collapsed": false
   },
   "outputs": [
    {
     "data": {
      "text/plain": [
       "(100, 3)"
      ]
     },
     "execution_count": 157,
     "metadata": {},
     "output_type": "execute_result"
    }
   ],
   "source": [
    "data.shape"
   ]
  },
  {
   "cell_type": "code",
   "execution_count": 158,
   "metadata": {
    "collapsed": false
   },
   "outputs": [],
   "source": [
    "X = data[:, :2]\n",
    "y = data[:, 2]"
   ]
  },
  {
   "cell_type": "code",
   "execution_count": 159,
   "metadata": {
    "collapsed": false
   },
   "outputs": [
    {
     "data": {
      "text/plain": [
       "<matplotlib.collections.PathCollection at 0xe462770>"
      ]
     },
     "execution_count": 159,
     "metadata": {},
     "output_type": "execute_result"
    },
    {
     "data": {
      "image/png": "[encoded data removed]",
      "text/plain": [
       "<matplotlib.figure.Figure at 0xf17ac90>"
      ]
     },
     "metadata": {},
     "output_type": "display_data"
    }
   ],
   "source": [
    "color = []\n",
    "for i in y:\n",
    "    if i>0:\n",
    "        color.append('r')\n",
    "    else:\n",
    "        color.append('b')\n",
    "pl.scatter(X[:, 0], X[:, 1], c=color)"
   ]
  },
  {
   "cell_type": "code",
   "execution_count": 237,
   "metadata": {
    "collapsed": false
   },
   "outputs": [],
   "source": [
    "[theta, costs] = trainLogisticRegression(X, y, alpha=0.002, num_iters=5000)"
   ]
  },
  {
   "cell_type": "code",
   "execution_count": 238,
   "metadata": {
    "collapsed": false
   },
   "outputs": [
    {
     "data": {
      "text/plain": [
       "array([ 0.67790118,  0.67347506,  0.67190179, ...,  0.58501481,\n",
       "        0.5850066 ,  0.58499839])"
      ]
     },
     "execution_count": 238,
     "metadata": {},
     "output_type": "execute_result"
    }
   ],
   "source": [
    "costs"
   ]
  },
  {
   "cell_type": "code",
   "execution_count": 239,
   "metadata": {
    "collapsed": false
   },
   "outputs": [
    {
     "data": {
      "text/plain": [
       "[<matplotlib.lines.Line2D at 0x10530050>]"
      ]
     },
     "execution_count": 239,
     "metadata": {},
     "output_type": "execute_result"
    },
    {
     "data": {
      "image/png": "[encoded data removed]",
      "text/plain": [
       "<matplotlib.figure.Figure at 0x104015f0>"
      ]
     },
     "metadata": {},
     "output_type": "display_data"
    }
   ],
   "source": [
    "pl.plot(costs)"
   ]
  },
  {
   "cell_type": "code",
   "execution_count": 233,
   "metadata": {
    "collapsed": false
   },
   "outputs": [
    {
     "data": {
      "text/plain": [
       "array([ 0.0201469 , -0.00713329, -0.13852045])"
      ]
     },
     "execution_count": 233,
     "metadata": {},
     "output_type": "execute_result"
    }
   ],
   "source": [
    "theta"
   ]
  },
  {
   "cell_type": "code",
   "execution_count": 241,
   "metadata": {
    "collapsed": false
   },
   "outputs": [
    {
     "name": "stdout",
     "output_type": "stream",
     "text": [
      "[ 0.57323365  0.50909212  0.57065839  0.6743395   0.72120412  0.58178567\n",
      "  0.68988606  0.67413552  0.72601567  0.70096739  0.72996205  0.65395952\n",
      "  0.73229987  0.71730078  0.58855946  0.65712217  0.66196369  0.65039628\n",
      "  0.71576919  0.6818398   0.64344867  0.74214193  0.59150526  0.52433678\n",
      "  0.71046267  0.66079449  0.68893369  0.72236156  0.63382794  0.57056334\n",
      "  0.66139666  0.71972656  0.61650375  0.62468499  0.58443316  0.61090398\n",
      "  0.59925448  0.68083704  0.66712271  0.56774     0.71426986  0.59246565\n",
      "  0.75543272  0.69088081  0.58922622  0.63756642  0.70992181  0.78546945\n",
      "  0.69330918  0.77122743  0.72262651  0.76402052  0.71978948  0.54829168\n",
      "  0.59189696  0.60297535  0.767597    0.58992043  0.69992888  0.70240525\n",
      "  0.72201579  0.53234327  0.59922469  0.51629075  0.59416382  0.63835485\n",
      "  0.62095156  0.59031066  0.74349398  0.6645597   0.51745026  0.67683406\n",
      "  0.72466015  0.65863943  0.65666449  0.77688387  0.63299465  0.62752495\n",
      "  0.61870614  0.69295943  0.74426967  0.73520666  0.67349036  0.6298917\n",
      "  0.74249589  0.70034662  0.60161958  0.72753008  0.74365124  0.61420206\n",
      "  0.76640798  0.76704056  0.59138447  0.7182243   0.71990142  0.70372441\n",
      "  0.61343689  0.77197748  0.63035747  0.72441441]\n"
     ]
    },
    {
     "data": {
      "text/plain": [
       "array([ 0.,  0.,  0.,  1.,  1.,  0.,  1.,  1.,  1.,  1.,  1.,  1.,  1.,\n",
       "        1.,  0.,  1.,  1.,  1.,  1.,  1.,  1.,  1.,  0.,  0.,  1.,  1.,\n",
       "        1.,  1.,  1.,  0.,  1.,  1.,  1.,  1.,  0.,  1.,  0.,  1.,  1.,\n",
       "        0.,  1.,  0.,  1.,  1.,  0.,  1.,  1.,  1.,  1.,  1.,  1.,  1.,\n",
       "        1.,  0.,  0.,  1.,  1.,  0.,  1.,  1.,  1.,  0.,  0.,  0.,  0.,\n",
       "        1.,  1.,  0.,  1.,  1.,  0.,  1.,  1.,  1.,  1.,  1.,  1.,  1.,\n",
       "        1.,  1.,  1.,  1.,  1.,  1.,  1.,  1.,  1.,  1.,  1.,  1.,  1.,\n",
       "        1.,  0.,  1.,  1.,  1.,  1.,  1.,  1.,  1.])"
      ]
     },
     "execution_count": 241,
     "metadata": {},
     "output_type": "execute_result"
    }
   ],
   "source": [
    "modelPredict(X, theta, threshold=0.6)"
   ]
  },
  {
   "cell_type": "code",
   "execution_count": 236,
   "metadata": {
    "collapsed": false
   },
   "outputs": [
    {
     "data": {
      "text/plain": [
       "array([ 0.,  0.,  0.,  1.,  1.,  0.,  1.,  1.,  1.,  1.,  0.,  0.,  1.,\n",
       "        1.,  0.,  1.,  1.,  0.,  1.,  1.,  0.,  1.,  0.,  0.,  1.,  1.,\n",
       "        1.,  0.,  0.,  0.,  1.,  1.,  0.,  1.,  0.,  0.,  0.,  1.,  0.,\n",
       "        0.,  1.,  0.,  1.,  0.,  0.,  0.,  1.,  1.,  1.,  1.,  1.,  1.,\n",
       "        1.,  0.,  0.,  0.,  1.,  0.,  1.,  1.,  1.,  0.,  0.,  0.,  0.,\n",
       "        0.,  1.,  0.,  1.,  1.,  0.,  1.,  1.,  1.,  1.,  1.,  1.,  1.,\n",
       "        0.,  0.,  1.,  1.,  1.,  1.,  1.,  1.,  0.,  1.,  1.,  0.,  1.,\n",
       "        1.,  0.,  1.,  1.,  1.,  1.,  1.,  1.,  1.], dtype=float32)"
      ]
     },
     "execution_count": 236,
     "metadata": {},
     "output_type": "execute_result"
    }
   ],
   "source": [
    "y"
   ]
  },
  {
   "cell_type": "code",
   "execution_count": null,
   "metadata": {
    "collapsed": true
   },
   "outputs": [],
   "source": []
  }
 ],
 "metadata": {
  "kernelspec": {
   "display_name": "Python 2",
   "language": "python",
   "name": "python2"
  },
  "language_info": {
   "codemirror_mode": {
    "name": "ipython",
    "version": 2
   },
   "file_extension": ".py",
   "mimetype": "text/x-python",
   "name": "python",
   "nbconvert_exporter": "python",
   "pygments_lexer": "ipython2",
   "version": "2.7.9"
  }
 },
 "nbformat": 4,
 "nbformat_minor": 0
}
